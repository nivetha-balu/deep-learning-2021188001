{
 "cells": [
  {
   "cell_type": "code",
   "execution_count": 1,
   "id": "246959aa",
   "metadata": {},
   "outputs": [],
   "source": [
    "import tensorflow as tf"
   ]
  },
  {
   "cell_type": "code",
   "execution_count": 2,
   "id": "9b94eb06",
   "metadata": {},
   "outputs": [
    {
     "name": "stdout",
     "output_type": "stream",
     "text": [
      "tf.Tensor(\n",
      "[[12 23 34 45]\n",
      " [ 2 25  1  8]\n",
      " [ 5  7 78 12]\n",
      " [95 21 47 20]], shape=(4, 4), dtype=int32)\n"
     ]
    }
   ],
   "source": [
    "mat = tf.constant([[12,23,34,45],[2,25,1,8],[5,7,78,12],[95,21,47,20]])\n",
    "print(mat)"
   ]
  },
  {
   "cell_type": "code",
   "execution_count": 3,
   "id": "18c2c4c1",
   "metadata": {},
   "outputs": [],
   "source": [
    "matmax = tf.math.reduce_max(mat,axis = 1)"
   ]
  },
  {
   "cell_type": "code",
   "execution_count": 4,
   "id": "b3ceb0a6",
   "metadata": {},
   "outputs": [
    {
     "data": {
      "text/plain": [
       "<tf.Tensor: shape=(4,), dtype=int32, numpy=array([45, 25, 78, 95])>"
      ]
     },
     "execution_count": 4,
     "metadata": {},
     "output_type": "execute_result"
    }
   ],
   "source": [
    "matmax"
   ]
  },
  {
   "cell_type": "code",
   "execution_count": 5,
   "id": "d059b2cc",
   "metadata": {},
   "outputs": [],
   "source": [
    "vtr1 = tf.constant([[2,5,1],[7,12,4],[19,15,6]])\n",
    "vtr2 = tf.constant([[13,4,11],[67,23,45],[71,11,10]])\n",
    "vtr3 = vtr1 + vtr2"
   ]
  },
  {
   "cell_type": "code",
   "execution_count": 6,
   "id": "72a3dce0",
   "metadata": {},
   "outputs": [
    {
     "data": {
      "text/plain": [
       "<tf.Tensor: shape=(3, 3), dtype=int32, numpy=\n",
       "array([[15,  9, 12],\n",
       "       [74, 35, 49],\n",
       "       [90, 26, 16]])>"
      ]
     },
     "execution_count": 6,
     "metadata": {},
     "output_type": "execute_result"
    }
   ],
   "source": [
    "vtr3"
   ]
  },
  {
   "cell_type": "code",
   "execution_count": 7,
   "id": "fcc4a505",
   "metadata": {},
   "outputs": [
    {
     "data": {
      "text/plain": [
       "<tf.Tensor: shape=(3, 2), dtype=int32, numpy=\n",
       "array([[ 68,  35],\n",
       "       [ 68,  60],\n",
       "       [123, 154]])>"
      ]
     },
     "execution_count": 7,
     "metadata": {},
     "output_type": "execute_result"
    }
   ],
   "source": [
    "vtr4 = tf.constant([[12,23],[34,45],[56,67]])\n",
    "list1 = [[56,12],[34,15],[67,87]]\n",
    "vtr5 = vtr4 + list1\n",
    "vtr5"
   ]
  },
  {
   "cell_type": "code",
   "execution_count": null,
   "id": "96ee8c05",
   "metadata": {},
   "outputs": [],
   "source": []
  }
 ],
 "metadata": {
  "kernelspec": {
   "display_name": "Python 3 (ipykernel)",
   "language": "python",
   "name": "python3"
  },
  "language_info": {
   "codemirror_mode": {
    "name": "ipython",
    "version": 3
   },
   "file_extension": ".py",
   "mimetype": "text/x-python",
   "name": "python",
   "nbconvert_exporter": "python",
   "pygments_lexer": "ipython3",
   "version": "3.9.7"
  }
 },
 "nbformat": 4,
 "nbformat_minor": 5
}
