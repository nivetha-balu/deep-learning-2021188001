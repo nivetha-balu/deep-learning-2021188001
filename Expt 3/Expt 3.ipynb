{
 "cells": [
  {
   "cell_type": "code",
   "execution_count": 1,
   "id": "04b8f35c",
   "metadata": {},
   "outputs": [],
   "source": [
    "import numpy as np\n",
    "import pandas as pd\n",
    "#from sklearn import preprocessing\n",
    "import matplotlib.pyplot as plt\n",
    "from sklearn.model_selection import train_test_split\n",
    "from sklearn.neural_network import MLPClassifier\n",
    "from sklearn.metrics import accuracy_score\n",
    "from sklearn.metrics import confusion_matrix"
   ]
  },
  {
   "cell_type": "code",
   "execution_count": 2,
   "id": "b9b77875",
   "metadata": {},
   "outputs": [
    {
     "data": {
      "text/html": [
       "<div>\n",
       "<style scoped>\n",
       "    .dataframe tbody tr th:only-of-type {\n",
       "        vertical-align: middle;\n",
       "    }\n",
       "\n",
       "    .dataframe tbody tr th {\n",
       "        vertical-align: top;\n",
       "    }\n",
       "\n",
       "    .dataframe thead th {\n",
       "        text-align: right;\n",
       "    }\n",
       "</style>\n",
       "<table border=\"1\" class=\"dataframe\">\n",
       "  <thead>\n",
       "    <tr style=\"text-align: right;\">\n",
       "      <th></th>\n",
       "      <th>0</th>\n",
       "      <th>1</th>\n",
       "      <th>2</th>\n",
       "      <th>3</th>\n",
       "      <th>4</th>\n",
       "    </tr>\n",
       "  </thead>\n",
       "  <tbody>\n",
       "    <tr>\n",
       "      <th>0</th>\n",
       "      <td>3.62160</td>\n",
       "      <td>8.6661</td>\n",
       "      <td>-2.8073</td>\n",
       "      <td>-0.44699</td>\n",
       "      <td>0</td>\n",
       "    </tr>\n",
       "    <tr>\n",
       "      <th>1</th>\n",
       "      <td>4.54590</td>\n",
       "      <td>8.1674</td>\n",
       "      <td>-2.4586</td>\n",
       "      <td>-1.46210</td>\n",
       "      <td>0</td>\n",
       "    </tr>\n",
       "    <tr>\n",
       "      <th>2</th>\n",
       "      <td>3.86600</td>\n",
       "      <td>-2.6383</td>\n",
       "      <td>1.9242</td>\n",
       "      <td>0.10645</td>\n",
       "      <td>0</td>\n",
       "    </tr>\n",
       "    <tr>\n",
       "      <th>3</th>\n",
       "      <td>3.45660</td>\n",
       "      <td>9.5228</td>\n",
       "      <td>-4.0112</td>\n",
       "      <td>-3.59440</td>\n",
       "      <td>0</td>\n",
       "    </tr>\n",
       "    <tr>\n",
       "      <th>4</th>\n",
       "      <td>0.32924</td>\n",
       "      <td>-4.4552</td>\n",
       "      <td>4.5718</td>\n",
       "      <td>-0.98880</td>\n",
       "      <td>0</td>\n",
       "    </tr>\n",
       "  </tbody>\n",
       "</table>\n",
       "</div>"
      ],
      "text/plain": [
       "         0       1       2        3  4\n",
       "0  3.62160  8.6661 -2.8073 -0.44699  0\n",
       "1  4.54590  8.1674 -2.4586 -1.46210  0\n",
       "2  3.86600 -2.6383  1.9242  0.10645  0\n",
       "3  3.45660  9.5228 -4.0112 -3.59440  0\n",
       "4  0.32924 -4.4552  4.5718 -0.98880  0"
      ]
     },
     "execution_count": 2,
     "metadata": {},
     "output_type": "execute_result"
    }
   ],
   "source": [
    "data=pd.read_csv('banknote_auth.csv', header = None)\n",
    "data.head()"
   ]
  },
  {
   "cell_type": "code",
   "execution_count": 3,
   "id": "af37a2a9",
   "metadata": {},
   "outputs": [
    {
     "name": "stdout",
     "output_type": "stream",
     "text": [
      "<class 'pandas.core.frame.DataFrame'>\n",
      "RangeIndex: 1372 entries, 0 to 1371\n",
      "Data columns (total 5 columns):\n",
      " #   Column  Non-Null Count  Dtype  \n",
      "---  ------  --------------  -----  \n",
      " 0   0       1372 non-null   float64\n",
      " 1   1       1372 non-null   float64\n",
      " 2   2       1372 non-null   float64\n",
      " 3   3       1372 non-null   float64\n",
      " 4   4       1372 non-null   int64  \n",
      "dtypes: float64(4), int64(1)\n",
      "memory usage: 53.7 KB\n"
     ]
    }
   ],
   "source": [
    "data.info()"
   ]
  },
  {
   "cell_type": "code",
   "execution_count": 4,
   "id": "63389a30",
   "metadata": {},
   "outputs": [],
   "source": [
    "X=data[[0,1,2,3]]\n",
    "y=data[4]"
   ]
  },
  {
   "cell_type": "code",
   "execution_count": 5,
   "id": "0eadd3ff",
   "metadata": {},
   "outputs": [],
   "source": [
    "X_train, X_test, y_train, y_test = train_test_split(X, y, test_size=0.2, random_state=0)"
   ]
  },
  {
   "cell_type": "code",
   "execution_count": 6,
   "id": "f8274fda",
   "metadata": {},
   "outputs": [],
   "source": [
    "clf = MLPClassifier(hidden_layer_sizes=(2,5), random_state=5, verbose=True, learning_rate_init=0.01, max_iter = 200)"
   ]
  },
  {
   "cell_type": "code",
   "execution_count": 7,
   "id": "2c211286",
   "metadata": {},
   "outputs": [
    {
     "name": "stdout",
     "output_type": "stream",
     "text": [
      "Iteration 1, loss = 1.16568765\n",
      "Iteration 2, loss = 0.90353793\n",
      "Iteration 3, loss = 0.75352779\n",
      "Iteration 4, loss = 0.68013528\n",
      "Iteration 5, loss = 0.64603995\n",
      "Iteration 6, loss = 0.61953417\n",
      "Iteration 7, loss = 0.59186821\n",
      "Iteration 8, loss = 0.56096864\n",
      "Iteration 9, loss = 0.52839248\n",
      "Iteration 10, loss = 0.49565618\n",
      "Iteration 11, loss = 0.46275720\n",
      "Iteration 12, loss = 0.43131761\n",
      "Iteration 13, loss = 0.40308044\n",
      "Iteration 14, loss = 0.37817443\n",
      "Iteration 15, loss = 0.35744853\n",
      "Iteration 16, loss = 0.34030566\n",
      "Iteration 17, loss = 0.32407519\n",
      "Iteration 18, loss = 0.30907061\n",
      "Iteration 19, loss = 0.29553534\n",
      "Iteration 20, loss = 0.28293982\n",
      "Iteration 21, loss = 0.27108528\n",
      "Iteration 22, loss = 0.25975597\n",
      "Iteration 23, loss = 0.24927613\n",
      "Iteration 24, loss = 0.23942677\n",
      "Iteration 25, loss = 0.23046335\n",
      "Iteration 26, loss = 0.22176405\n",
      "Iteration 27, loss = 0.21353396\n",
      "Iteration 28, loss = 0.20589680\n",
      "Iteration 29, loss = 0.19853096\n",
      "Iteration 30, loss = 0.19159044\n",
      "Iteration 31, loss = 0.18519568\n",
      "Iteration 32, loss = 0.17910522\n",
      "Iteration 33, loss = 0.17327095\n",
      "Iteration 34, loss = 0.16803285\n",
      "Iteration 35, loss = 0.16257402\n",
      "Iteration 36, loss = 0.15793524\n",
      "Iteration 37, loss = 0.15303294\n",
      "Iteration 38, loss = 0.14856195\n",
      "Iteration 39, loss = 0.14434215\n",
      "Iteration 40, loss = 0.14041562\n",
      "Iteration 41, loss = 0.13650522\n",
      "Iteration 42, loss = 0.13279722\n",
      "Iteration 43, loss = 0.12919130\n",
      "Iteration 44, loss = 0.12598428\n",
      "Iteration 45, loss = 0.12276453\n",
      "Iteration 46, loss = 0.12001742\n",
      "Iteration 47, loss = 0.11708118\n",
      "Iteration 48, loss = 0.11407196\n",
      "Iteration 49, loss = 0.11141074\n",
      "Iteration 50, loss = 0.10891565\n",
      "Iteration 51, loss = 0.10642075\n",
      "Iteration 52, loss = 0.10402187\n",
      "Iteration 53, loss = 0.10183158\n",
      "Iteration 54, loss = 0.09965460\n",
      "Iteration 55, loss = 0.09755833\n",
      "Iteration 56, loss = 0.09566560\n",
      "Iteration 57, loss = 0.09366102\n",
      "Iteration 58, loss = 0.09180309\n",
      "Iteration 59, loss = 0.09007641\n",
      "Iteration 60, loss = 0.08862505\n",
      "Iteration 61, loss = 0.08673087\n",
      "Iteration 62, loss = 0.08535516\n",
      "Iteration 63, loss = 0.08358689\n",
      "Iteration 64, loss = 0.08218892\n",
      "Iteration 65, loss = 0.08062093\n",
      "Iteration 66, loss = 0.07928169\n",
      "Iteration 67, loss = 0.07793644\n",
      "Iteration 68, loss = 0.07668515\n",
      "Iteration 69, loss = 0.07541960\n",
      "Iteration 70, loss = 0.07418238\n",
      "Iteration 71, loss = 0.07303749\n",
      "Iteration 72, loss = 0.07187092\n",
      "Iteration 73, loss = 0.07095482\n",
      "Iteration 74, loss = 0.06970327\n",
      "Iteration 75, loss = 0.06887934\n",
      "Iteration 76, loss = 0.06777403\n",
      "Iteration 77, loss = 0.06696834\n",
      "Iteration 78, loss = 0.06580374\n",
      "Iteration 79, loss = 0.06519756\n",
      "Iteration 80, loss = 0.06420190\n",
      "Iteration 81, loss = 0.06347949\n",
      "Iteration 82, loss = 0.06235121\n",
      "Iteration 83, loss = 0.06176941\n",
      "Iteration 84, loss = 0.06080733\n",
      "Iteration 85, loss = 0.06015402\n",
      "Iteration 86, loss = 0.05930920\n",
      "Iteration 87, loss = 0.05873731\n",
      "Iteration 88, loss = 0.05806118\n",
      "Iteration 89, loss = 0.05711556\n",
      "Iteration 90, loss = 0.05655253\n",
      "Iteration 91, loss = 0.05616185\n",
      "Iteration 92, loss = 0.05580475\n",
      "Iteration 93, loss = 0.05495011\n",
      "Iteration 94, loss = 0.05404476\n",
      "Iteration 95, loss = 0.05356053\n",
      "Iteration 96, loss = 0.05290346\n",
      "Iteration 97, loss = 0.05241792\n",
      "Iteration 98, loss = 0.05193885\n",
      "Iteration 99, loss = 0.05135785\n",
      "Iteration 100, loss = 0.05072940\n",
      "Iteration 101, loss = 0.05038344\n",
      "Iteration 102, loss = 0.04963735\n",
      "Iteration 103, loss = 0.04940387\n",
      "Iteration 104, loss = 0.04884264\n",
      "Iteration 105, loss = 0.04852557\n",
      "Iteration 106, loss = 0.04810226\n",
      "Iteration 107, loss = 0.04777476\n",
      "Iteration 108, loss = 0.04724919\n",
      "Iteration 109, loss = 0.04681402\n",
      "Iteration 110, loss = 0.04633064\n",
      "Iteration 111, loss = 0.04595851\n",
      "Iteration 112, loss = 0.04557333\n",
      "Iteration 113, loss = 0.04504495\n",
      "Iteration 114, loss = 0.04463809\n",
      "Iteration 115, loss = 0.04425811\n",
      "Iteration 116, loss = 0.04425141\n",
      "Iteration 117, loss = 0.04431404\n",
      "Iteration 118, loss = 0.04448058\n",
      "Iteration 119, loss = 0.04416038\n",
      "Iteration 120, loss = 0.04320811\n",
      "Iteration 121, loss = 0.04190973\n",
      "Iteration 122, loss = 0.04237588\n",
      "Iteration 123, loss = 0.04231303\n",
      "Iteration 124, loss = 0.04147613\n",
      "Iteration 125, loss = 0.04107972\n",
      "Iteration 126, loss = 0.04186684\n",
      "Iteration 127, loss = 0.04089102\n",
      "Iteration 128, loss = 0.04123028\n",
      "Iteration 129, loss = 0.03990247\n",
      "Iteration 130, loss = 0.04038960\n",
      "Iteration 131, loss = 0.03969047\n",
      "Iteration 132, loss = 0.03948381\n",
      "Iteration 133, loss = 0.03880480\n",
      "Iteration 134, loss = 0.03883126\n",
      "Iteration 135, loss = 0.03870047\n",
      "Iteration 136, loss = 0.03798113\n",
      "Iteration 137, loss = 0.03811043\n",
      "Iteration 138, loss = 0.03770471\n",
      "Iteration 139, loss = 0.03789794\n",
      "Iteration 140, loss = 0.03798286\n",
      "Iteration 141, loss = 0.03718835\n",
      "Iteration 142, loss = 0.03752846\n",
      "Iteration 143, loss = 0.03706617\n",
      "Iteration 144, loss = 0.03693027\n",
      "Iteration 145, loss = 0.03641775\n",
      "Iteration 146, loss = 0.03643262\n",
      "Iteration 147, loss = 0.03639124\n",
      "Iteration 148, loss = 0.03634965\n",
      "Iteration 149, loss = 0.03577484\n",
      "Iteration 150, loss = 0.03600009\n",
      "Iteration 151, loss = 0.03542181\n",
      "Iteration 152, loss = 0.03570500\n",
      "Iteration 153, loss = 0.03472255\n",
      "Iteration 154, loss = 0.03525778\n",
      "Iteration 155, loss = 0.03458224\n",
      "Iteration 156, loss = 0.03463952\n",
      "Iteration 157, loss = 0.03464878\n",
      "Iteration 158, loss = 0.03362378\n",
      "Iteration 159, loss = 0.03428615\n",
      "Iteration 160, loss = 0.03377725\n",
      "Iteration 161, loss = 0.03356695\n",
      "Iteration 162, loss = 0.03358417\n",
      "Iteration 163, loss = 0.03340356\n",
      "Iteration 164, loss = 0.03295918\n",
      "Iteration 165, loss = 0.03308827\n",
      "Iteration 166, loss = 0.03252505\n",
      "Iteration 167, loss = 0.03265609\n",
      "Iteration 168, loss = 0.03252878\n",
      "Iteration 169, loss = 0.03247057\n",
      "Iteration 170, loss = 0.03228310\n",
      "Iteration 171, loss = 0.03217011\n",
      "Iteration 172, loss = 0.03196203\n",
      "Iteration 173, loss = 0.03199601\n",
      "Iteration 174, loss = 0.03158594\n",
      "Iteration 175, loss = 0.03163858\n",
      "Iteration 176, loss = 0.03215199\n",
      "Iteration 177, loss = 0.03339691\n",
      "Iteration 178, loss = 0.03170687\n",
      "Iteration 179, loss = 0.03108772\n",
      "Iteration 180, loss = 0.03146661\n",
      "Iteration 181, loss = 0.03091584\n",
      "Iteration 182, loss = 0.03074542\n",
      "Iteration 183, loss = 0.03100740\n",
      "Iteration 184, loss = 0.03041343\n",
      "Iteration 185, loss = 0.03053895\n",
      "Iteration 186, loss = 0.03061826\n",
      "Iteration 187, loss = 0.03081240\n",
      "Iteration 188, loss = 0.02989403\n",
      "Iteration 189, loss = 0.03024867\n",
      "Iteration 190, loss = 0.03016390\n",
      "Iteration 191, loss = 0.02984204\n",
      "Iteration 192, loss = 0.02988742\n",
      "Iteration 193, loss = 0.03008230\n",
      "Iteration 194, loss = 0.02991080\n",
      "Iteration 195, loss = 0.02976873\n",
      "Iteration 196, loss = 0.03014815\n",
      "Iteration 197, loss = 0.02959050\n",
      "Iteration 198, loss = 0.02918772\n",
      "Iteration 199, loss = 0.02924187\n",
      "Iteration 200, loss = 0.02896881\n"
     ]
    },
    {
     "name": "stderr",
     "output_type": "stream",
     "text": [
      "C:\\Users\\nivet\\anaconda3\\lib\\site-packages\\sklearn\\neural_network\\_multilayer_perceptron.py:614: ConvergenceWarning: Stochastic Optimizer: Maximum iterations (200) reached and the optimization hasn't converged yet.\n",
      "  warnings.warn(\n"
     ]
    },
    {
     "data": {
      "text/plain": [
       "MLPClassifier(hidden_layer_sizes=(2, 5), learning_rate_init=0.01,\n",
       "              random_state=5, verbose=True)"
      ]
     },
     "execution_count": 7,
     "metadata": {},
     "output_type": "execute_result"
    }
   ],
   "source": [
    "clf.fit(X_train,y_train)"
   ]
  },
  {
   "cell_type": "code",
   "execution_count": 8,
   "id": "c04205e1",
   "metadata": {},
   "outputs": [],
   "source": [
    "ypred=clf.predict(X_test)"
   ]
  },
  {
   "cell_type": "code",
   "execution_count": 9,
   "id": "3a97fd29",
   "metadata": {},
   "outputs": [
    {
     "data": {
      "text/plain": [
       "0.9927272727272727"
      ]
     },
     "execution_count": 9,
     "metadata": {},
     "output_type": "execute_result"
    }
   ],
   "source": [
    "accuracy_score(y_test,ypred)"
   ]
  },
  {
   "cell_type": "code",
   "execution_count": 10,
   "id": "fc3f5444",
   "metadata": {},
   "outputs": [
    {
     "data": {
      "text/plain": [
       "array([[155,   2],\n",
       "       [  0, 118]], dtype=int64)"
      ]
     },
     "execution_count": 10,
     "metadata": {},
     "output_type": "execute_result"
    }
   ],
   "source": [
    "confusion_matrix(y_test,ypred)"
   ]
  },
  {
   "cell_type": "code",
   "execution_count": 11,
   "id": "92c28323",
   "metadata": {},
   "outputs": [
    {
     "data": {
      "text/plain": [
       "[<matplotlib.lines.Line2D at 0x17a9d703ee0>]"
      ]
     },
     "execution_count": 11,
     "metadata": {},
     "output_type": "execute_result"
    },
    {
     "data": {
      "image/png": "[encoded data removed]",
      "text/plain": [
       "<Figure size 432x288 with 1 Axes>"
      ]
     },
     "metadata": {
      "needs_background": "light"
     },
     "output_type": "display_data"
    }
   ],
   "source": [
    "plt.plot(clf.loss_curve_)"
   ]
  },
  {
   "cell_type": "code",
   "execution_count": 12,
   "id": "a6b99c1d",
   "metadata": {},
   "outputs": [],
   "source": [
    "clf2 = MLPClassifier(hidden_layer_sizes=(2,5), random_state=5, verbose=True, learning_rate_init=0.001, max_iter = 200)"
   ]
  },
  {
   "cell_type": "code",
   "execution_count": 13,
   "id": "20dbe208",
   "metadata": {},
   "outputs": [
    {
     "name": "stdout",
     "output_type": "stream",
     "text": [
      "Iteration 1, loss = 1.27419812\n",
      "Iteration 2, loss = 1.23763224\n",
      "Iteration 3, loss = 1.20335272\n",
      "Iteration 4, loss = 1.17076568\n",
      "Iteration 5, loss = 1.13922377\n",
      "Iteration 6, loss = 1.10948135\n",
      "Iteration 7, loss = 1.08172482\n",
      "Iteration 8, loss = 1.05476351\n",
      "Iteration 9, loss = 1.02963345\n",
      "Iteration 10, loss = 1.00636011\n",
      "Iteration 11, loss = 0.98417991\n",
      "Iteration 12, loss = 0.96323114\n",
      "Iteration 13, loss = 0.94376718\n",
      "Iteration 14, loss = 0.92514544\n",
      "Iteration 15, loss = 0.90673737\n",
      "Iteration 16, loss = 0.89065828\n",
      "Iteration 17, loss = 0.87401321\n",
      "Iteration 18, loss = 0.85903234\n",
      "Iteration 19, loss = 0.84474050\n",
      "Iteration 20, loss = 0.83090154\n",
      "Iteration 21, loss = 0.81779996\n",
      "Iteration 22, loss = 0.80535361\n",
      "Iteration 23, loss = 0.79300129\n",
      "Iteration 24, loss = 0.78147214\n",
      "Iteration 25, loss = 0.77073420\n",
      "Iteration 26, loss = 0.76029219\n",
      "Iteration 27, loss = 0.75033866\n",
      "Iteration 28, loss = 0.74087522\n",
      "Iteration 29, loss = 0.73201832\n",
      "Iteration 30, loss = 0.72335541\n",
      "Iteration 31, loss = 0.71550341\n",
      "Iteration 32, loss = 0.70762324\n",
      "Iteration 33, loss = 0.70034458\n",
      "Iteration 34, loss = 0.69345335\n",
      "Iteration 35, loss = 0.68669615\n",
      "Iteration 36, loss = 0.68032451\n",
      "Iteration 37, loss = 0.67461040\n",
      "Iteration 38, loss = 0.66925357\n",
      "Iteration 39, loss = 0.66412616\n",
      "Iteration 40, loss = 0.65933880\n",
      "Iteration 41, loss = 0.65481338\n",
      "Iteration 42, loss = 0.65037338\n",
      "Iteration 43, loss = 0.64608239\n",
      "Iteration 44, loss = 0.64194553\n",
      "Iteration 45, loss = 0.63789431\n",
      "Iteration 46, loss = 0.63384016\n",
      "Iteration 47, loss = 0.62978947\n",
      "Iteration 48, loss = 0.62574790\n",
      "Iteration 49, loss = 0.62178502\n",
      "Iteration 50, loss = 0.61778405\n",
      "Iteration 51, loss = 0.61382833\n",
      "Iteration 52, loss = 0.60985732\n",
      "Iteration 53, loss = 0.60594881\n",
      "Iteration 54, loss = 0.60203588\n",
      "Iteration 55, loss = 0.59812935\n",
      "Iteration 56, loss = 0.59432865\n",
      "Iteration 57, loss = 0.59053412\n",
      "Iteration 58, loss = 0.58669474\n",
      "Iteration 59, loss = 0.58285815\n",
      "Iteration 60, loss = 0.57907517\n",
      "Iteration 61, loss = 0.57529560\n",
      "Iteration 62, loss = 0.57152104\n",
      "Iteration 63, loss = 0.56777852\n",
      "Iteration 64, loss = 0.56408145\n",
      "Iteration 65, loss = 0.56035200\n",
      "Iteration 66, loss = 0.55668289\n",
      "Iteration 67, loss = 0.55300303\n",
      "Iteration 68, loss = 0.54932873\n",
      "Iteration 69, loss = 0.54566511\n",
      "Iteration 70, loss = 0.54201920\n",
      "Iteration 71, loss = 0.53839416\n",
      "Iteration 72, loss = 0.53478006\n",
      "Iteration 73, loss = 0.53114381\n",
      "Iteration 74, loss = 0.52746408\n",
      "Iteration 75, loss = 0.52390514\n",
      "Iteration 76, loss = 0.52024646\n",
      "Iteration 77, loss = 0.51655558\n",
      "Iteration 78, loss = 0.51291954\n",
      "Iteration 79, loss = 0.50926328\n",
      "Iteration 80, loss = 0.50559166\n",
      "Iteration 81, loss = 0.50195049\n",
      "Iteration 82, loss = 0.49836892\n",
      "Iteration 83, loss = 0.49473646\n",
      "Iteration 84, loss = 0.49111843\n",
      "Iteration 85, loss = 0.48753948\n",
      "Iteration 86, loss = 0.48401562\n",
      "Iteration 87, loss = 0.48055154\n",
      "Iteration 88, loss = 0.47710699\n",
      "Iteration 89, loss = 0.47370042\n",
      "Iteration 90, loss = 0.47038477\n",
      "Iteration 91, loss = 0.46705863\n",
      "Iteration 92, loss = 0.46379220\n",
      "Iteration 93, loss = 0.46054098\n",
      "Iteration 94, loss = 0.45730871\n",
      "Iteration 95, loss = 0.45414215\n",
      "Iteration 96, loss = 0.45098642\n",
      "Iteration 97, loss = 0.44790850\n",
      "Iteration 98, loss = 0.44486019\n",
      "Iteration 99, loss = 0.44186633\n",
      "Iteration 100, loss = 0.43892954\n",
      "Iteration 101, loss = 0.43604961\n",
      "Iteration 102, loss = 0.43321340\n",
      "Iteration 103, loss = 0.43044654\n",
      "Iteration 104, loss = 0.42770831\n",
      "Iteration 105, loss = 0.42499546\n",
      "Iteration 106, loss = 0.42237573\n",
      "Iteration 107, loss = 0.41975823\n",
      "Iteration 108, loss = 0.41720811\n",
      "Iteration 109, loss = 0.41468034\n",
      "Iteration 110, loss = 0.41223785\n",
      "Iteration 111, loss = 0.40978322\n",
      "Iteration 112, loss = 0.40739450\n",
      "Iteration 113, loss = 0.40509200\n",
      "Iteration 114, loss = 0.40280121\n",
      "Iteration 115, loss = 0.40056255\n",
      "Iteration 116, loss = 0.39841044\n",
      "Iteration 117, loss = 0.39630327\n",
      "Iteration 118, loss = 0.39427123\n",
      "Iteration 119, loss = 0.39221371\n",
      "Iteration 120, loss = 0.39017878\n",
      "Iteration 121, loss = 0.38821962\n",
      "Iteration 122, loss = 0.38625167\n",
      "Iteration 123, loss = 0.38431527\n",
      "Iteration 124, loss = 0.38245878\n",
      "Iteration 125, loss = 0.38055751\n",
      "Iteration 126, loss = 0.37869640\n",
      "Iteration 127, loss = 0.37685164\n",
      "Iteration 128, loss = 0.37503898\n",
      "Iteration 129, loss = 0.37321802\n",
      "Iteration 130, loss = 0.37144575\n",
      "Iteration 131, loss = 0.36969110\n",
      "Iteration 132, loss = 0.36793932\n",
      "Iteration 133, loss = 0.36620075\n",
      "Iteration 134, loss = 0.36449832\n",
      "Iteration 135, loss = 0.36279438\n",
      "Iteration 136, loss = 0.36111664\n",
      "Iteration 137, loss = 0.35946090\n",
      "Iteration 138, loss = 0.35780100\n",
      "Iteration 139, loss = 0.35616917\n",
      "Iteration 140, loss = 0.35455022\n",
      "Iteration 141, loss = 0.35293807\n",
      "Iteration 142, loss = 0.35135063\n",
      "Iteration 143, loss = 0.34976091\n",
      "Iteration 144, loss = 0.34821962\n",
      "Iteration 145, loss = 0.34665450\n",
      "Iteration 146, loss = 0.34510198\n",
      "Iteration 147, loss = 0.34359009\n",
      "Iteration 148, loss = 0.34207821\n",
      "Iteration 149, loss = 0.34055745\n",
      "Iteration 150, loss = 0.33908545\n",
      "Iteration 151, loss = 0.33762755\n",
      "Iteration 152, loss = 0.33614596\n",
      "Iteration 153, loss = 0.33472190\n",
      "Iteration 154, loss = 0.33326171\n",
      "Iteration 155, loss = 0.33184276\n",
      "Iteration 156, loss = 0.33041732\n",
      "Iteration 157, loss = 0.32900462\n",
      "Iteration 158, loss = 0.32759863\n",
      "Iteration 159, loss = 0.32619898\n",
      "Iteration 160, loss = 0.32479639\n",
      "Iteration 161, loss = 0.32342003\n",
      "Iteration 162, loss = 0.32204015\n",
      "Iteration 163, loss = 0.32069475\n",
      "Iteration 164, loss = 0.31934203\n",
      "Iteration 165, loss = 0.31801028\n",
      "Iteration 166, loss = 0.31666137\n",
      "Iteration 167, loss = 0.31533386\n",
      "Iteration 168, loss = 0.31401135\n",
      "Iteration 169, loss = 0.31271775\n",
      "Iteration 170, loss = 0.31140667\n",
      "Iteration 171, loss = 0.31011818\n",
      "Iteration 172, loss = 0.30884689\n",
      "Iteration 173, loss = 0.30757439\n",
      "Iteration 174, loss = 0.30631027\n",
      "Iteration 175, loss = 0.30505582\n",
      "Iteration 176, loss = 0.30380743\n",
      "Iteration 177, loss = 0.30260155\n",
      "Iteration 178, loss = 0.30131796\n",
      "Iteration 179, loss = 0.30012643\n",
      "Iteration 180, loss = 0.29887641\n",
      "Iteration 181, loss = 0.29765402\n",
      "Iteration 182, loss = 0.29644847\n",
      "Iteration 183, loss = 0.29524477\n",
      "Iteration 184, loss = 0.29404323\n",
      "Iteration 185, loss = 0.29284387\n",
      "Iteration 186, loss = 0.29165693\n",
      "Iteration 187, loss = 0.29050831\n",
      "Iteration 188, loss = 0.28931342\n",
      "Iteration 189, loss = 0.28814878\n",
      "Iteration 190, loss = 0.28699525\n",
      "Iteration 191, loss = 0.28583717\n",
      "Iteration 192, loss = 0.28469758\n",
      "Iteration 193, loss = 0.28354447\n",
      "Iteration 194, loss = 0.28239938\n",
      "Iteration 195, loss = 0.28130845\n",
      "Iteration 196, loss = 0.28015138\n",
      "Iteration 197, loss = 0.27904191\n",
      "Iteration 198, loss = 0.27794021\n",
      "Iteration 199, loss = 0.27682452\n",
      "Iteration 200, loss = 0.27573913\n"
     ]
    },
    {
     "name": "stderr",
     "output_type": "stream",
     "text": [
      "C:\\Users\\nivet\\anaconda3\\lib\\site-packages\\sklearn\\neural_network\\_multilayer_perceptron.py:614: ConvergenceWarning: Stochastic Optimizer: Maximum iterations (200) reached and the optimization hasn't converged yet.\n",
      "  warnings.warn(\n"
     ]
    },
    {
     "data": {
      "text/plain": [
       "MLPClassifier(hidden_layer_sizes=(2, 5), random_state=5, verbose=True)"
      ]
     },
     "execution_count": 13,
     "metadata": {},
     "output_type": "execute_result"
    }
   ],
   "source": [
    "clf2.fit(X_train,y_train)"
   ]
  },
  {
   "cell_type": "code",
   "execution_count": 14,
   "id": "10f772b0",
   "metadata": {},
   "outputs": [
    {
     "data": {
      "text/plain": [
       "0.9890909090909091"
      ]
     },
     "execution_count": 14,
     "metadata": {},
     "output_type": "execute_result"
    }
   ],
   "source": [
    "ypred2=clf2.predict(X_test)\n",
    "accuracy_score(y_test,ypred2)"
   ]
  },
  {
   "cell_type": "code",
   "execution_count": 15,
   "id": "bfc4ddd2",
   "metadata": {},
   "outputs": [
    {
     "data": {
      "text/plain": [
       "[<matplotlib.lines.Line2D at 0x17a9d82f4f0>]"
      ]
     },
     "execution_count": 15,
     "metadata": {},
     "output_type": "execute_result"
    },
    {
     "data": {
      "image/png": "[encoded data removed]",
      "text/plain": [
       "<Figure size 432x288 with 1 Axes>"
      ]
     },
     "metadata": {
      "needs_background": "light"
     },
     "output_type": "display_data"
    }
   ],
   "source": [
    "plt.plot(clf2.loss_curve_)"
   ]
  },
  {
   "cell_type": "code",
   "execution_count": 16,
   "id": "c74b5443",
   "metadata": {},
   "outputs": [],
   "source": [
    "clf3 = MLPClassifier(hidden_layer_sizes=(10,10,10,10,10), random_state=5, verbose=True, learning_rate_init=0.01, early_stopping = True, validation_fraction = 0.3)"
   ]
  },
  {
   "cell_type": "code",
   "execution_count": 17,
   "id": "d54b5ac7",
   "metadata": {},
   "outputs": [
    {
     "name": "stdout",
     "output_type": "stream",
     "text": [
      "Iteration 1, loss = 0.74599476\n",
      "Validation score: 0.663636\n",
      "Iteration 2, loss = 0.58286352\n",
      "Validation score: 0.793939\n",
      "Iteration 3, loss = 0.45284202\n",
      "Validation score: 0.963636\n",
      "Iteration 4, loss = 0.32220906\n",
      "Validation score: 0.981818\n",
      "Iteration 5, loss = 0.22680003\n",
      "Validation score: 0.978788\n",
      "Iteration 6, loss = 0.14546775\n",
      "Validation score: 0.984848\n",
      "Iteration 7, loss = 0.06870378\n",
      "Validation score: 0.978788\n",
      "Iteration 8, loss = 0.03788539\n",
      "Validation score: 0.996970\n",
      "Iteration 9, loss = 0.01862796\n",
      "Validation score: 1.000000\n",
      "Iteration 10, loss = 0.00540264\n",
      "Validation score: 0.996970\n",
      "Iteration 11, loss = 0.00526691\n",
      "Validation score: 1.000000\n",
      "Iteration 12, loss = 0.00123205\n",
      "Validation score: 1.000000\n",
      "Iteration 13, loss = 0.00353425\n",
      "Validation score: 1.000000\n",
      "Iteration 14, loss = 0.00268211\n",
      "Validation score: 0.987879\n",
      "Iteration 15, loss = 0.01587593\n",
      "Validation score: 1.000000\n",
      "Iteration 16, loss = 0.00094191\n",
      "Validation score: 1.000000\n",
      "Iteration 17, loss = 0.00155011\n",
      "Validation score: 0.996970\n",
      "Iteration 18, loss = 0.00668642\n",
      "Validation score: 1.000000\n",
      "Iteration 19, loss = 0.00053585\n",
      "Validation score: 0.990909\n",
      "Iteration 20, loss = 0.00432444\n",
      "Validation score: 0.996970\n",
      "Validation score did not improve more than tol=0.000100 for 10 consecutive epochs. Stopping.\n"
     ]
    },
    {
     "data": {
      "text/plain": [
       "MLPClassifier(early_stopping=True, hidden_layer_sizes=(10, 10, 10, 10, 10),\n",
       "              learning_rate_init=0.01, random_state=5, validation_fraction=0.3,\n",
       "              verbose=True)"
      ]
     },
     "execution_count": 17,
     "metadata": {},
     "output_type": "execute_result"
    }
   ],
   "source": [
    "clf3.fit(X_train,y_train)"
   ]
  },
  {
   "cell_type": "code",
   "execution_count": 18,
   "id": "a5fccca1",
   "metadata": {},
   "outputs": [
    {
     "data": {
      "text/plain": [
       "[<matplotlib.lines.Line2D at 0x17a9d8a71c0>]"
      ]
     },
     "execution_count": 18,
     "metadata": {},
     "output_type": "execute_result"
    },
    {
     "data": {
      "image/png": "[encoded data removed]",
      "text/plain": [
       "<Figure size 432x288 with 1 Axes>"
      ]
     },
     "metadata": {
      "needs_background": "light"
     },
     "output_type": "display_data"
    }
   ],
   "source": [
    "plt.plot(clf3.loss_curve_)"
   ]
  },
  {
   "cell_type": "code",
   "execution_count": 19,
   "id": "822ebfef",
   "metadata": {},
   "outputs": [],
   "source": [
    "ypred3=clf3.predict(X_test)"
   ]
  },
  {
   "cell_type": "code",
   "execution_count": 20,
   "id": "633d010b",
   "metadata": {},
   "outputs": [
    {
     "data": {
      "text/plain": [
       "0.9963636363636363"
      ]
     },
     "execution_count": 20,
     "metadata": {},
     "output_type": "execute_result"
    }
   ],
   "source": [
    "accuracy_score(y_test,ypred3)"
   ]
  },
  {
   "cell_type": "code",
   "execution_count": null,
   "id": "f27d6d36",
   "metadata": {},
   "outputs": [],
   "source": []
  }
 ],
 "metadata": {
  "kernelspec": {
   "display_name": "Python 3 (ipykernel)",
   "language": "python",
   "name": "python3"
  },
  "language_info": {
   "codemirror_mode": {
    "name": "ipython",
    "version": 3
   },
   "file_extension": ".py",
   "mimetype": "text/x-python",
   "name": "python",
   "nbconvert_exporter": "python",
   "pygments_lexer": "ipython3",
   "version": "3.9.7"
  }
 },
 "nbformat": 4,
 "nbformat_minor": 5
}
