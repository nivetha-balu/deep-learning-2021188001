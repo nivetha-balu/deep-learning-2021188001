{
 "cells": [
  {
   "cell_type": "code",
   "execution_count": 1,
   "id": "7d8c95fa",
   "metadata": {},
   "outputs": [],
   "source": [
    "import numpy as np\n",
    "import pandas as pd\n",
    "import matplotlib.pyplot as plt\n",
    "from sklearn.model_selection import train_test_split\n",
    "from tensorflow.keras.callbacks import EarlyStopping\n",
    "from tensorflow.keras.optimizers import Adam\n",
    "from keras.models import Sequential\n",
    "from sklearn.preprocessing import MinMaxScaler\n",
    "from keras.layers import Dense ,Dropout,BatchNormalization\n",
    "from keras.layers import Dense\n",
    "from keras.wrappers.scikit_learn import KerasRegressor\n",
    "from sklearn.model_selection import cross_val_score\n",
    "from sklearn.model_selection import KFold\n",
    "from sklearn.preprocessing import StandardScaler\n",
    "from sklearn.metrics import r2_score"
   ]
  },
  {
   "cell_type": "code",
   "execution_count": 2,
   "id": "d7aa91bc",
   "metadata": {},
   "outputs": [
    {
     "data": {
      "text/html": [
       "<div>\n",
       "<style scoped>\n",
       "    .dataframe tbody tr th:only-of-type {\n",
       "        vertical-align: middle;\n",
       "    }\n",
       "\n",
       "    .dataframe tbody tr th {\n",
       "        vertical-align: top;\n",
       "    }\n",
       "\n",
       "    .dataframe thead th {\n",
       "        text-align: right;\n",
       "    }\n",
       "</style>\n",
       "<table border=\"1\" class=\"dataframe\">\n",
       "  <thead>\n",
       "    <tr style=\"text-align: right;\">\n",
       "      <th></th>\n",
       "      <th>GRE</th>\n",
       "      <th>TOEFL</th>\n",
       "      <th>University Rating</th>\n",
       "      <th>SOP</th>\n",
       "      <th>LOR</th>\n",
       "      <th>CGPA</th>\n",
       "      <th>Research</th>\n",
       "      <th>Admission_Chance</th>\n",
       "    </tr>\n",
       "  </thead>\n",
       "  <tbody>\n",
       "    <tr>\n",
       "      <th>0</th>\n",
       "      <td>337</td>\n",
       "      <td>118</td>\n",
       "      <td>4</td>\n",
       "      <td>4.5</td>\n",
       "      <td>4.5</td>\n",
       "      <td>9.65</td>\n",
       "      <td>1</td>\n",
       "      <td>0.92</td>\n",
       "    </tr>\n",
       "    <tr>\n",
       "      <th>1</th>\n",
       "      <td>324</td>\n",
       "      <td>107</td>\n",
       "      <td>4</td>\n",
       "      <td>4.0</td>\n",
       "      <td>4.5</td>\n",
       "      <td>8.87</td>\n",
       "      <td>1</td>\n",
       "      <td>0.76</td>\n",
       "    </tr>\n",
       "    <tr>\n",
       "      <th>2</th>\n",
       "      <td>316</td>\n",
       "      <td>104</td>\n",
       "      <td>3</td>\n",
       "      <td>3.0</td>\n",
       "      <td>3.5</td>\n",
       "      <td>8.00</td>\n",
       "      <td>1</td>\n",
       "      <td>0.72</td>\n",
       "    </tr>\n",
       "    <tr>\n",
       "      <th>3</th>\n",
       "      <td>322</td>\n",
       "      <td>110</td>\n",
       "      <td>3</td>\n",
       "      <td>3.5</td>\n",
       "      <td>2.5</td>\n",
       "      <td>8.67</td>\n",
       "      <td>1</td>\n",
       "      <td>0.80</td>\n",
       "    </tr>\n",
       "    <tr>\n",
       "      <th>4</th>\n",
       "      <td>314</td>\n",
       "      <td>103</td>\n",
       "      <td>2</td>\n",
       "      <td>2.0</td>\n",
       "      <td>3.0</td>\n",
       "      <td>8.21</td>\n",
       "      <td>0</td>\n",
       "      <td>0.65</td>\n",
       "    </tr>\n",
       "  </tbody>\n",
       "</table>\n",
       "</div>"
      ],
      "text/plain": [
       "   GRE  TOEFL  University Rating  SOP  LOR   CGPA  Research  Admission_Chance\n",
       "0  337    118                  4  4.5   4.5  9.65         1              0.92\n",
       "1  324    107                  4  4.0   4.5  8.87         1              0.76\n",
       "2  316    104                  3  3.0   3.5  8.00         1              0.72\n",
       "3  322    110                  3  3.5   2.5  8.67         1              0.80\n",
       "4  314    103                  2  2.0   3.0  8.21         0              0.65"
      ]
     },
     "execution_count": 2,
     "metadata": {},
     "output_type": "execute_result"
    }
   ],
   "source": [
    "df=pd.read_csv(\"admissions.csv\")\n",
    "df=df.rename(index=str, columns={\"GRE Score\": \"GRE\", \"TOEFL Score\": \"TOEFL\", \"Chance of Admit \": \"Admission_Chance\"})\n",
    "df=df.drop(\"Serial No.\",axis=1)\n",
    "df.head()"
   ]
  },
  {
   "cell_type": "code",
   "execution_count": 3,
   "id": "b56565f9",
   "metadata": {},
   "outputs": [
    {
     "name": "stdout",
     "output_type": "stream",
     "text": [
      "<class 'pandas.core.frame.DataFrame'>\n",
      "Index: 400 entries, 0 to 399\n",
      "Data columns (total 8 columns):\n",
      " #   Column             Non-Null Count  Dtype  \n",
      "---  ------             --------------  -----  \n",
      " 0   GRE                400 non-null    int64  \n",
      " 1   TOEFL              400 non-null    int64  \n",
      " 2   University Rating  400 non-null    int64  \n",
      " 3   SOP                400 non-null    float64\n",
      " 4   LOR                400 non-null    float64\n",
      " 5   CGPA               400 non-null    float64\n",
      " 6   Research           400 non-null    int64  \n",
      " 7   Admission_Chance   400 non-null    float64\n",
      "dtypes: float64(4), int64(4)\n",
      "memory usage: 28.1+ KB\n"
     ]
    }
   ],
   "source": [
    "df.info()"
   ]
  },
  {
   "cell_type": "code",
   "execution_count": 4,
   "id": "a4bf52a5",
   "metadata": {},
   "outputs": [
    {
     "data": {
      "image/png": "[encoded data removed]",
      "text/plain": [
       "<Figure size 432x288 with 2 Axes>"
      ]
     },
     "metadata": {
      "needs_background": "light"
     },
     "output_type": "display_data"
    }
   ],
   "source": [
    "corr = df.corr()\n",
    "fig = plt.figure()\n",
    "ax = fig.add_subplot(111)\n",
    "cax = ax.matshow(corr,cmap='coolwarm', vmin=-1, vmax=1)\n",
    "fig.colorbar(cax)\n",
    "ticks = np.arange(0,len(df.columns),1)\n",
    "ax.set_xticks(ticks)\n",
    "plt.xticks(rotation=90)\n",
    "ax.set_yticks(ticks)\n",
    "ax.set_xticklabels(df.columns)\n",
    "ax.set_yticklabels(df.columns)\n",
    "plt.show()"
   ]
  },
  {
   "cell_type": "code",
   "execution_count": 5,
   "id": "3f844ebb",
   "metadata": {},
   "outputs": [],
   "source": [
    "model = Sequential()\n",
    "model.add(Dense(7, input_dim=7, activation='relu'))\n",
    "model.add(Dense(7, input_dim=7, activation='relu'))\n",
    "model.add(Dense(1))"
   ]
  },
  {
   "cell_type": "code",
   "execution_count": 6,
   "id": "991d17d1",
   "metadata": {},
   "outputs": [],
   "source": [
    "model.compile(loss='mse', optimizer = Adam(learning_rate=0.01))"
   ]
  },
  {
   "cell_type": "code",
   "execution_count": 7,
   "id": "47fdb016",
   "metadata": {},
   "outputs": [],
   "source": [
    "X=np.asarray(df.drop(\"Admission_Chance\",axis=1))\n",
    "y=np.asarray(df[\"Admission_Chance\"])"
   ]
  },
  {
   "cell_type": "code",
   "execution_count": 8,
   "id": "246ead76",
   "metadata": {},
   "outputs": [],
   "source": [
    "X_train, X_test, y_train, y_test = train_test_split(X,y, test_size=0.2)\n",
    "scaler =  MinMaxScaler()\n",
    "X_train=scaler.fit_transform(X_train)\n",
    "X_test=scaler.fit_transform(X_test)"
   ]
  },
  {
   "cell_type": "code",
   "execution_count": 9,
   "id": "e55afb84",
   "metadata": {},
   "outputs": [
    {
     "name": "stdout",
     "output_type": "stream",
     "text": [
      "Epoch 1/200\n",
      "2/2 [==============================] - 2s 633ms/step - loss: 0.1139 - val_loss: 0.0637\n",
      "Epoch 2/200\n",
      "2/2 [==============================] - 0s 126ms/step - loss: 0.0682 - val_loss: 0.0670\n",
      "Epoch 3/200\n",
      "2/2 [==============================] - 0s 77ms/step - loss: 0.0681 - val_loss: 0.0512\n",
      "Epoch 4/200\n",
      "2/2 [==============================] - 0s 195ms/step - loss: 0.0505 - val_loss: 0.0337\n",
      "Epoch 5/200\n",
      "2/2 [==============================] - 0s 63ms/step - loss: 0.0341 - val_loss: 0.0267\n",
      "Epoch 6/200\n",
      "2/2 [==============================] - 0s 160ms/step - loss: 0.0278 - val_loss: 0.0237\n",
      "Epoch 7/200\n",
      "2/2 [==============================] - 0s 60ms/step - loss: 0.0232 - val_loss: 0.0182\n",
      "Epoch 8/200\n",
      "2/2 [==============================] - 0s 101ms/step - loss: 0.0167 - val_loss: 0.0143\n",
      "Epoch 9/200\n",
      "2/2 [==============================] - 0s 101ms/step - loss: 0.0135 - val_loss: 0.0158\n",
      "Epoch 10/200\n",
      "2/2 [==============================] - 0s 104ms/step - loss: 0.0138 - val_loss: 0.0168\n",
      "Epoch 11/200\n",
      "2/2 [==============================] - 0s 81ms/step - loss: 0.0130 - val_loss: 0.0144\n",
      "Epoch 12/200\n",
      "2/2 [==============================] - 0s 51ms/step - loss: 0.0107 - val_loss: 0.0130\n",
      "Epoch 13/200\n",
      "2/2 [==============================] - 0s 135ms/step - loss: 0.0101 - val_loss: 0.0130\n",
      "Epoch 14/200\n",
      "2/2 [==============================] - 0s 61ms/step - loss: 0.0102 - val_loss: 0.0117\n",
      "Epoch 15/200\n",
      "2/2 [==============================] - 0s 183ms/step - loss: 0.0089 - val_loss: 0.0096\n",
      "Epoch 16/200\n",
      "2/2 [==============================] - 0s 52ms/step - loss: 0.0075 - val_loss: 0.0086\n",
      "Epoch 17/200\n",
      "2/2 [==============================] - 0s 133ms/step - loss: 0.0070 - val_loss: 0.0082\n",
      "Epoch 18/200\n",
      "2/2 [==============================] - 0s 79ms/step - loss: 0.0068 - val_loss: 0.0070\n",
      "Epoch 19/200\n",
      "2/2 [==============================] - 0s 105ms/step - loss: 0.0060 - val_loss: 0.0061\n",
      "Epoch 20/200\n",
      "2/2 [==============================] - 0s 90ms/step - loss: 0.0056 - val_loss: 0.0061\n",
      "Epoch 21/200\n",
      "2/2 [==============================] - 0s 76ms/step - loss: 0.0057 - val_loss: 0.0059\n",
      "Epoch 22/200\n",
      "2/2 [==============================] - 0s 113ms/step - loss: 0.0056 - val_loss: 0.0054\n",
      "Epoch 23/200\n",
      "2/2 [==============================] - 0s 52ms/step - loss: 0.0053 - val_loss: 0.0052\n",
      "Epoch 24/200\n",
      "2/2 [==============================] - 0s 169ms/step - loss: 0.0054 - val_loss: 0.0052\n",
      "Epoch 25/200\n",
      "2/2 [==============================] - 0s 54ms/step - loss: 0.0054 - val_loss: 0.0050\n",
      "Epoch 26/200\n",
      "2/2 [==============================] - 0s 111ms/step - loss: 0.0051 - val_loss: 0.0049\n",
      "Epoch 27/200\n",
      "2/2 [==============================] - 0s 104ms/step - loss: 0.0051 - val_loss: 0.0049\n",
      "Epoch 28/200\n",
      "2/2 [==============================] - 0s 108ms/step - loss: 0.0050 - val_loss: 0.0048\n",
      "Epoch 29/200\n",
      "2/2 [==============================] - 0s 109ms/step - loss: 0.0049 - val_loss: 0.0048\n",
      "Epoch 30/200\n",
      "2/2 [==============================] - 0s 112ms/step - loss: 0.0049 - val_loss: 0.0048\n",
      "Epoch 31/200\n",
      "2/2 [==============================] - 0s 108ms/step - loss: 0.0048 - val_loss: 0.0048\n",
      "Epoch 32/200\n",
      "2/2 [==============================] - 0s 110ms/step - loss: 0.0047 - val_loss: 0.0048\n",
      "Epoch 33/200\n",
      "2/2 [==============================] - 0s 100ms/step - loss: 0.0047 - val_loss: 0.0048\n",
      "Epoch 34/200\n",
      "2/2 [==============================] - 0s 135ms/step - loss: 0.0047 - val_loss: 0.0047\n",
      "Epoch 35/200\n",
      "2/2 [==============================] - 0s 88ms/step - loss: 0.0046 - val_loss: 0.0047\n",
      "Epoch 36/200\n",
      "2/2 [==============================] - 0s 74ms/step - loss: 0.0046 - val_loss: 0.0047\n",
      "Epoch 37/200\n",
      "2/2 [==============================] - 0s 136ms/step - loss: 0.0046 - val_loss: 0.0046\n",
      "Epoch 38/200\n",
      "2/2 [==============================] - 0s 78ms/step - loss: 0.0045 - val_loss: 0.0046\n",
      "Epoch 39/200\n",
      "2/2 [==============================] - 0s 142ms/step - loss: 0.0045 - val_loss: 0.0046\n",
      "Epoch 40/200\n",
      "2/2 [==============================] - 0s 98ms/step - loss: 0.0045 - val_loss: 0.0045\n",
      "Epoch 41/200\n",
      "2/2 [==============================] - 0s 120ms/step - loss: 0.0045 - val_loss: 0.0045\n",
      "Epoch 42/200\n",
      "2/2 [==============================] - 0s 63ms/step - loss: 0.0045 - val_loss: 0.0045\n",
      "Epoch 43/200\n",
      "2/2 [==============================] - 0s 149ms/step - loss: 0.0045 - val_loss: 0.0045\n",
      "Epoch 44/200\n",
      "2/2 [==============================] - 0s 63ms/step - loss: 0.0045 - val_loss: 0.0045\n",
      "Epoch 45/200\n",
      "2/2 [==============================] - 0s 119ms/step - loss: 0.0045 - val_loss: 0.0045\n",
      "Epoch 46/200\n",
      "2/2 [==============================] - 0s 81ms/step - loss: 0.0044 - val_loss: 0.0045\n",
      "Epoch 47/200\n",
      "2/2 [==============================] - 0s 154ms/step - loss: 0.0044 - val_loss: 0.0045\n",
      "Epoch 48/200\n",
      "2/2 [==============================] - 0s 72ms/step - loss: 0.0044 - val_loss: 0.0045\n",
      "Epoch 49/200\n",
      "2/2 [==============================] - 0s 168ms/step - loss: 0.0044 - val_loss: 0.0045\n",
      "Epoch 50/200\n",
      "2/2 [==============================] - 0s 67ms/step - loss: 0.0044 - val_loss: 0.0045\n",
      "Epoch 51/200\n",
      "2/2 [==============================] - 0s 138ms/step - loss: 0.0044 - val_loss: 0.0044\n",
      "Epoch 52/200\n",
      "2/2 [==============================] - 0s 64ms/step - loss: 0.0043 - val_loss: 0.0044\n",
      "Epoch 53/200\n",
      "2/2 [==============================] - 0s 112ms/step - loss: 0.0043 - val_loss: 0.0044\n",
      "Epoch 54/200\n",
      "2/2 [==============================] - 0s 101ms/step - loss: 0.0043 - val_loss: 0.0044\n",
      "Epoch 55/200\n",
      "2/2 [==============================] - 0s 69ms/step - loss: 0.0043 - val_loss: 0.0044\n",
      "Epoch 56/200\n",
      "2/2 [==============================] - 0s 117ms/step - loss: 0.0043 - val_loss: 0.0044\n",
      "Epoch 57/200\n",
      "2/2 [==============================] - 0s 47ms/step - loss: 0.0043 - val_loss: 0.0044\n",
      "Epoch 58/200\n",
      "2/2 [==============================] - 0s 157ms/step - loss: 0.0043 - val_loss: 0.0043\n",
      "Epoch 59/200\n",
      "2/2 [==============================] - 0s 58ms/step - loss: 0.0043 - val_loss: 0.0043\n",
      "Epoch 60/200\n",
      "2/2 [==============================] - 0s 121ms/step - loss: 0.0043 - val_loss: 0.0043\n",
      "Epoch 61/200\n",
      "2/2 [==============================] - 0s 66ms/step - loss: 0.0043 - val_loss: 0.0043\n",
      "Epoch 62/200\n",
      "2/2 [==============================] - 0s 74ms/step - loss: 0.0043 - val_loss: 0.0043\n",
      "Epoch 63/200\n",
      "2/2 [==============================] - 0s 116ms/step - loss: 0.0043 - val_loss: 0.0043\n",
      "Epoch 64/200\n",
      "2/2 [==============================] - 0s 54ms/step - loss: 0.0043 - val_loss: 0.0043\n",
      "Epoch 65/200\n",
      "2/2 [==============================] - 0s 117ms/step - loss: 0.0042 - val_loss: 0.0043\n",
      "Epoch 66/200\n",
      "2/2 [==============================] - 0s 79ms/step - loss: 0.0043 - val_loss: 0.0043\n",
      "Epoch 67/200\n",
      "2/2 [==============================] - 0s 104ms/step - loss: 0.0042 - val_loss: 0.0043\n",
      "Epoch 68/200\n",
      "2/2 [==============================] - 0s 97ms/step - loss: 0.0043 - val_loss: 0.0043\n",
      "Epoch 69/200\n",
      "2/2 [==============================] - 0s 58ms/step - loss: 0.0043 - val_loss: 0.0043\n",
      "Epoch 70/200\n",
      "2/2 [==============================] - 0s 143ms/step - loss: 0.0042 - val_loss: 0.0042\n",
      "Epoch 71/200\n",
      "2/2 [==============================] - 0s 57ms/step - loss: 0.0042 - val_loss: 0.0043\n",
      "Epoch 72/200\n",
      "2/2 [==============================] - 0s 165ms/step - loss: 0.0042 - val_loss: 0.0042\n",
      "Epoch 73/200\n",
      "2/2 [==============================] - 0s 66ms/step - loss: 0.0042 - val_loss: 0.0042\n",
      "Epoch 74/200\n",
      "2/2 [==============================] - 0s 111ms/step - loss: 0.0042 - val_loss: 0.0042\n",
      "Epoch 75/200\n",
      "2/2 [==============================] - 0s 70ms/step - loss: 0.0042 - val_loss: 0.0042\n",
      "Epoch 76/200\n",
      "2/2 [==============================] - 0s 89ms/step - loss: 0.0042 - val_loss: 0.0042\n",
      "Epoch 77/200\n",
      "2/2 [==============================] - 0s 100ms/step - loss: 0.0042 - val_loss: 0.0042\n",
      "Epoch 78/200\n",
      "2/2 [==============================] - 0s 85ms/step - loss: 0.0042 - val_loss: 0.0042\n",
      "Epoch 79/200\n",
      "2/2 [==============================] - 0s 112ms/step - loss: 0.0042 - val_loss: 0.0042\n",
      "Epoch 80/200\n",
      "2/2 [==============================] - 0s 53ms/step - loss: 0.0042 - val_loss: 0.0043\n",
      "Epoch 81/200\n",
      "2/2 [==============================] - 0s 104ms/step - loss: 0.0042 - val_loss: 0.0042\n",
      "Epoch 82/200\n",
      "2/2 [==============================] - 0s 112ms/step - loss: 0.0042 - val_loss: 0.0042\n",
      "Epoch 83/200\n"
     ]
    },
    {
     "name": "stdout",
     "output_type": "stream",
     "text": [
      "2/2 [==============================] - 0s 102ms/step - loss: 0.0042 - val_loss: 0.0042\n",
      "Epoch 84/200\n",
      "2/2 [==============================] - 0s 68ms/step - loss: 0.0042 - val_loss: 0.0042\n",
      "Epoch 85/200\n",
      "2/2 [==============================] - 0s 72ms/step - loss: 0.0042 - val_loss: 0.0043\n",
      "Epoch 86/200\n",
      "2/2 [==============================] - 0s 104ms/step - loss: 0.0042 - val_loss: 0.0043\n",
      "Epoch 87/200\n",
      "2/2 [==============================] - 0s 62ms/step - loss: 0.0042 - val_loss: 0.0042\n",
      "Epoch 88/200\n",
      "2/2 [==============================] - 0s 104ms/step - loss: 0.0042 - val_loss: 0.0042\n",
      "Epoch 89/200\n",
      "2/2 [==============================] - 0s 90ms/step - loss: 0.0042 - val_loss: 0.0043\n",
      "Epoch 90/200\n",
      "2/2 [==============================] - 0s 131ms/step - loss: 0.0042 - val_loss: 0.0042\n",
      "Epoch 91/200\n",
      "2/2 [==============================] - 0s 80ms/step - loss: 0.0042 - val_loss: 0.0043\n",
      "Epoch 92/200\n",
      "2/2 [==============================] - 0s 100ms/step - loss: 0.0042 - val_loss: 0.0043\n",
      "Epoch 93/200\n",
      "2/2 [==============================] - 0s 49ms/step - loss: 0.0042 - val_loss: 0.0043\n",
      "Epoch 94/200\n",
      "2/2 [==============================] - 0s 50ms/step - loss: 0.0042 - val_loss: 0.0043\n",
      "Epoch 95/200\n",
      "2/2 [==============================] - 0s 51ms/step - loss: 0.0041 - val_loss: 0.0043\n",
      "Epoch 96/200\n",
      "2/2 [==============================] - 0s 55ms/step - loss: 0.0042 - val_loss: 0.0043\n",
      "Epoch 97/200\n",
      "2/2 [==============================] - 0s 64ms/step - loss: 0.0041 - val_loss: 0.0043\n",
      "Epoch 98/200\n",
      "2/2 [==============================] - 0s 55ms/step - loss: 0.0041 - val_loss: 0.0043\n",
      "Epoch 99/200\n",
      "2/2 [==============================] - 0s 50ms/step - loss: 0.0041 - val_loss: 0.0043\n",
      "Epoch 100/200\n",
      "2/2 [==============================] - 0s 54ms/step - loss: 0.0041 - val_loss: 0.0043\n",
      "Epoch 101/200\n",
      "2/2 [==============================] - 0s 61ms/step - loss: 0.0041 - val_loss: 0.0043\n",
      "Epoch 102/200\n",
      "2/2 [==============================] - 0s 71ms/step - loss: 0.0041 - val_loss: 0.0043\n",
      "Epoch 103/200\n",
      "2/2 [==============================] - 0s 53ms/step - loss: 0.0041 - val_loss: 0.0043\n",
      "Epoch 104/200\n",
      "2/2 [==============================] - 0s 53ms/step - loss: 0.0041 - val_loss: 0.0043\n",
      "Epoch 105/200\n",
      "2/2 [==============================] - 0s 58ms/step - loss: 0.0041 - val_loss: 0.0043\n",
      "Epoch 106/200\n",
      "2/2 [==============================] - 0s 60ms/step - loss: 0.0041 - val_loss: 0.0043\n",
      "Epoch 107/200\n",
      "2/2 [==============================] - 0s 74ms/step - loss: 0.0041 - val_loss: 0.0043\n",
      "Epoch 108/200\n",
      "2/2 [==============================] - 0s 49ms/step - loss: 0.0041 - val_loss: 0.0043\n",
      "Epoch 109/200\n",
      "2/2 [==============================] - 0s 57ms/step - loss: 0.0041 - val_loss: 0.0043\n",
      "Epoch 110/200\n",
      "2/2 [==============================] - 0s 65ms/step - loss: 0.0041 - val_loss: 0.0043\n",
      "Epoch 111/200\n",
      "2/2 [==============================] - 0s 84ms/step - loss: 0.0041 - val_loss: 0.0043\n",
      "Epoch 112/200\n",
      "2/2 [==============================] - 0s 70ms/step - loss: 0.0041 - val_loss: 0.0043\n",
      "Epoch 113/200\n",
      "2/2 [==============================] - 0s 53ms/step - loss: 0.0041 - val_loss: 0.0043\n",
      "Epoch 114/200\n",
      "2/2 [==============================] - 0s 52ms/step - loss: 0.0041 - val_loss: 0.0043\n",
      "Epoch 115/200\n",
      "2/2 [==============================] - 0s 51ms/step - loss: 0.0041 - val_loss: 0.0043\n",
      "Epoch 116/200\n",
      "2/2 [==============================] - 0s 63ms/step - loss: 0.0041 - val_loss: 0.0043\n",
      "Epoch 117/200\n",
      "2/2 [==============================] - 0s 66ms/step - loss: 0.0041 - val_loss: 0.0043\n",
      "Epoch 118/200\n",
      "2/2 [==============================] - 0s 47ms/step - loss: 0.0041 - val_loss: 0.0043\n",
      "Epoch 119/200\n",
      "2/2 [==============================] - 0s 48ms/step - loss: 0.0041 - val_loss: 0.0043\n",
      "Epoch 120/200\n",
      "2/2 [==============================] - 0s 47ms/step - loss: 0.0041 - val_loss: 0.0043\n",
      "Epoch 121/200\n",
      "2/2 [==============================] - 0s 55ms/step - loss: 0.0041 - val_loss: 0.0043\n",
      "Epoch 122/200\n",
      "2/2 [==============================] - 0s 45ms/step - loss: 0.0041 - val_loss: 0.0043\n",
      "Epoch 123/200\n",
      "2/2 [==============================] - 0s 60ms/step - loss: 0.0041 - val_loss: 0.0043\n",
      "Epoch 124/200\n",
      "2/2 [==============================] - 0s 55ms/step - loss: 0.0041 - val_loss: 0.0043\n",
      "Epoch 125/200\n",
      "2/2 [==============================] - 0s 52ms/step - loss: 0.0041 - val_loss: 0.0043\n",
      "Epoch 126/200\n",
      "2/2 [==============================] - 0s 47ms/step - loss: 0.0041 - val_loss: 0.0043\n",
      "Epoch 127/200\n",
      "2/2 [==============================] - 0s 47ms/step - loss: 0.0041 - val_loss: 0.0043\n",
      "Epoch 128/200\n",
      "2/2 [==============================] - 0s 54ms/step - loss: 0.0041 - val_loss: 0.0043\n",
      "Epoch 129/200\n",
      "2/2 [==============================] - 0s 44ms/step - loss: 0.0041 - val_loss: 0.0043\n",
      "Epoch 130/200\n",
      "2/2 [==============================] - 0s 54ms/step - loss: 0.0042 - val_loss: 0.0043\n",
      "Epoch 131/200\n",
      "2/2 [==============================] - 0s 49ms/step - loss: 0.0041 - val_loss: 0.0044\n",
      "Epoch 132/200\n",
      "2/2 [==============================] - 0s 53ms/step - loss: 0.0041 - val_loss: 0.0044\n",
      "Epoch 133/200\n",
      "2/2 [==============================] - 0s 75ms/step - loss: 0.0041 - val_loss: 0.0044\n",
      "Epoch 134/200\n",
      "2/2 [==============================] - 0s 48ms/step - loss: 0.0041 - val_loss: 0.0043\n",
      "Epoch 135/200\n",
      "2/2 [==============================] - 0s 50ms/step - loss: 0.0041 - val_loss: 0.0044\n",
      "Epoch 136/200\n",
      "2/2 [==============================] - 0s 56ms/step - loss: 0.0041 - val_loss: 0.0043\n",
      "Epoch 137/200\n",
      "2/2 [==============================] - 0s 43ms/step - loss: 0.0041 - val_loss: 0.0044\n",
      "Epoch 138/200\n",
      "2/2 [==============================] - 0s 51ms/step - loss: 0.0041 - val_loss: 0.0043\n",
      "Epoch 139/200\n",
      "2/2 [==============================] - 0s 50ms/step - loss: 0.0042 - val_loss: 0.0044\n",
      "Epoch 140/200\n",
      "2/2 [==============================] - 0s 50ms/step - loss: 0.0041 - val_loss: 0.0044\n",
      "Epoch 141/200\n",
      "2/2 [==============================] - 0s 55ms/step - loss: 0.0041 - val_loss: 0.0043\n",
      "Epoch 142/200\n",
      "2/2 [==============================] - 0s 45ms/step - loss: 0.0041 - val_loss: 0.0044\n",
      "Epoch 143/200\n",
      "2/2 [==============================] - 0s 46ms/step - loss: 0.0041 - val_loss: 0.0043\n",
      "Epoch 144/200\n",
      "2/2 [==============================] - 0s 53ms/step - loss: 0.0041 - val_loss: 0.0043\n",
      "Epoch 145/200\n",
      "2/2 [==============================] - 0s 50ms/step - loss: 0.0041 - val_loss: 0.0044\n"
     ]
    },
    {
     "data": {
      "text/plain": [
       "<keras.callbacks.History at 0x18a9e756c40>"
      ]
     },
     "execution_count": 9,
     "metadata": {},
     "output_type": "execute_result"
    }
   ],
   "source": [
    "model.fit(x=X_train, y=y_train, epochs = 200, validation_split=0.2, batch_size = 128, verbose = 1, callbacks = EarlyStopping(monitor='loss', patience=10))"
   ]
  },
  {
   "cell_type": "code",
   "execution_count": 10,
   "id": "ad8b02ea",
   "metadata": {},
   "outputs": [
    {
     "name": "stdout",
     "output_type": "stream",
     "text": [
      "Model: \"sequential\"\n",
      "_________________________________________________________________\n",
      " Layer (type)                Output Shape              Param #   \n",
      "=================================================================\n",
      " dense (Dense)               (None, 7)                 56        \n",
      "                                                                 \n",
      " dense_1 (Dense)             (None, 7)                 56        \n",
      "                                                                 \n",
      " dense_2 (Dense)             (None, 1)                 8         \n",
      "                                                                 \n",
      "=================================================================\n",
      "Total params: 120\n",
      "Trainable params: 120\n",
      "Non-trainable params: 0\n",
      "_________________________________________________________________\n"
     ]
    }
   ],
   "source": [
    "model.summary()"
   ]
  },
  {
   "cell_type": "code",
   "execution_count": 11,
   "id": "6a89295c",
   "metadata": {},
   "outputs": [
    {
     "data": {
      "text/plain": [
       "<AxesSubplot:>"
      ]
     },
     "execution_count": 11,
     "metadata": {},
     "output_type": "execute_result"
    },
    {
     "data": {
      "image/png": "[encoded data removed]",
      "text/plain": [
       "<Figure size 432x288 with 1 Axes>"
      ]
     },
     "metadata": {
      "needs_background": "light"
     },
     "output_type": "display_data"
    }
   ],
   "source": [
    "loss_df = pd.DataFrame(model.history.history)\n",
    "loss_df.plot()"
   ]
  },
  {
   "cell_type": "code",
   "execution_count": 12,
   "id": "f79f2d22",
   "metadata": {},
   "outputs": [
    {
     "name": "stdout",
     "output_type": "stream",
     "text": [
      "3/3 [==============================] - 0s 3ms/step\n"
     ]
    }
   ],
   "source": [
    "y_pred = model.predict(X_test)"
   ]
  },
  {
   "cell_type": "code",
   "execution_count": 13,
   "id": "812c0aef",
   "metadata": {},
   "outputs": [
    {
     "data": {
      "text/plain": [
       "0.7242716788859003"
      ]
     },
     "execution_count": 13,
     "metadata": {},
     "output_type": "execute_result"
    }
   ],
   "source": [
    "r2_score(y_test,y_pred)"
   ]
  },
  {
   "cell_type": "code",
   "execution_count": null,
   "id": "922c386e",
   "metadata": {},
   "outputs": [],
   "source": []
  }
 ],
 "metadata": {
  "kernelspec": {
   "display_name": "Python 3 (ipykernel)",
   "language": "python",
   "name": "python3"
  },
  "language_info": {
   "codemirror_mode": {
    "name": "ipython",
    "version": 3
   },
   "file_extension": ".py",
   "mimetype": "text/x-python",
   "name": "python",
   "nbconvert_exporter": "python",
   "pygments_lexer": "ipython3",
   "version": "3.9.7"
  }
 },
 "nbformat": 4,
 "nbformat_minor": 5
}
